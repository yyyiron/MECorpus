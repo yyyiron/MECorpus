{
 "cells": [
  {
   "cell_type": "code",
   "execution_count": 3,
   "metadata": {},
   "outputs": [],
   "source": [
    "import jieba\n",
    "jieba.load_userdict(r\"dict1.txt\")\n",
    "import jieba.posseg as pseg"
   ]
  },
  {
   "cell_type": "code",
   "execution_count": 4,
   "metadata": {},
   "outputs": [
    {
     "data": {
      "text/plain": [
       "['比亚迪CPD']"
      ]
     },
     "execution_count": 4,
     "metadata": {},
     "output_type": "execute_result"
    }
   ],
   "source": [
    "jieba.lcut('比亚迪CPD')"
   ]
  },
  {
   "cell_type": "code",
   "execution_count": 5,
   "metadata": {},
   "outputs": [
    {
     "name": "stdout",
     "output_type": "stream",
     "text": [
      "安全防爆阀 out\n",
      "其 r\n",
      "的 uj\n",
      "性能 n\n",
      "， x\n",
      "达到最佳 nr\n",
      "的 uj\n",
      "能量 n\n",
      "使用 v\n",
      "效率 n\n",
      "， x\n",
      "更加 d\n",
      "节能 adj\n",
      "和 c\n",
      "环 n\n",
      "… x\n",
      "… x\n"
     ]
    }
   ],
   "source": [
    "f='安全防爆阀其的性能，达到最佳的能量使用效率，更加节能和环……'\n",
    "words = pseg.cut(f)\n",
    "ci=[]\n",
    "tag=[]\n",
    "def panduan(flag1):\n",
    "    if(flag1=='name'):\n",
    "        return '-NAME'\n",
    "    elif(flag1=='cate'):\n",
    "        return '-CATE'\n",
    "    elif(flag1=='adj'):\n",
    "        return '-ADJ'\n",
    "    elif(flag1=='ope'):\n",
    "        return '-OPE'\n",
    "    elif(flag1=='out'):\n",
    "        return '-OUT'\n",
    "    elif(flag1=='app'):\n",
    "        return '-APP'\n",
    "    else:\n",
    "        return 0\n",
    "for w in words:\n",
    "    for i in w.word:\n",
    "        ci.append(i)  ##添加字\n",
    "    if(panduan(w.flag)):\n",
    "        for j in range(len(w.word)):\n",
    "            if(j==0):\n",
    "                tag.append(' B'+panduan(w.flag))\n",
    "            elif(j==len(w.flag)):\n",
    "                tag.append(' E'+panduan(w.flag))\n",
    "            else:\n",
    "                tag.append(' I'+panduan(w.flag))\n",
    "    else:\n",
    "        for j in range(len(w.word)):\n",
    "            tag.append(' O')\n",
    "        \n",
    "    print(w.word,w.flag)"
   ]
  },
  {
   "cell_type": "code",
   "execution_count": 3,
   "metadata": {},
   "outputs": [
    {
     "data": {
      "text/plain": [
       "106"
      ]
     },
     "execution_count": 3,
     "metadata": {},
     "output_type": "execute_result"
    }
   ],
   "source": [
    "print(len(ci))\n",
    "print(len(tag))"
   ]
  },
  {
   "cell_type": "code",
   "execution_count": 4,
   "metadata": {},
   "outputs": [],
   "source": [
    "new=[]\n",
    "for i in range(len(ci)):\n",
    "    new.append(str(ci[i])+str(tag[i]))"
   ]
  },
  {
   "cell_type": "code",
   "execution_count": 5,
   "metadata": {},
   "outputs": [
    {
     "data": {
      "text/plain": [
       "['比 B-NAME',\n",
       " '亚 I-NAME',\n",
       " '迪 I-NAME',\n",
       " 'C I-NAME',\n",
       " 'P E-NAME',\n",
       " 'D I-NAME',\n",
       " '电 B-CATE',\n",
       " '动 I-CATE',\n",
       " '平 I-CATE',\n",
       " '衡 I-CATE',\n",
       " '重 E-CATE',\n",
       " '式 I-CATE',\n",
       " '叉 I-CATE',\n",
       " '车 I-CATE',\n",
       " '高 B-OUT',\n",
       " '智 I-OUT',\n",
       " '能 I-OUT',\n",
       " '电 E-OUT',\n",
       " '控 I-OUT',\n",
       " '系 I-OUT',\n",
       " '统 I-OUT',\n",
       " '根 O',\n",
       " '据 O',\n",
       " '操 O',\n",
       " '作 O',\n",
       " '习 O',\n",
       " '惯 O',\n",
       " '和 O',\n",
       " '操 O',\n",
       " '作 O',\n",
       " '工 O',\n",
       " '况 O',\n",
       " '， O',\n",
       " '该 O',\n",
       " '系 O',\n",
       " '统 O',\n",
       " '具 O',\n",
       " '有 O',\n",
       " 'S O',\n",
       " '/ O',\n",
       " 'P O',\n",
       " '/ O',\n",
       " 'H O',\n",
       " '不 O',\n",
       " '同 O',\n",
       " '的 O',\n",
       " '动 O',\n",
       " '力 O',\n",
       " '模 O',\n",
       " '式 O',\n",
       " '， O',\n",
       " '如 O',\n",
       " '高 O',\n",
       " '动 O',\n",
       " '力 O',\n",
       " '举 O',\n",
       " '升 O',\n",
       " '、 O',\n",
       " '低 O',\n",
       " '动 O',\n",
       " '力 O',\n",
       " '行 O',\n",
       " '走 O',\n",
       " '等 O',\n",
       " '， O',\n",
       " '可 O',\n",
       " '以 O',\n",
       " '让 O',\n",
       " '车 O',\n",
       " '辆 O',\n",
       " '在 O',\n",
       " '各 O',\n",
       " '种 O',\n",
       " '工 O',\n",
       " '况 O',\n",
       " '下 O',\n",
       " '灵 B-ADJ',\n",
       " '活 I-ADJ',\n",
       " '的 O',\n",
       " '发 O',\n",
       " '挥 O',\n",
       " '其 O',\n",
       " '的 O',\n",
       " '性 O',\n",
       " '能 O',\n",
       " '， O',\n",
       " '达 O',\n",
       " '到 O',\n",
       " '最 O',\n",
       " '佳 O',\n",
       " '的 O',\n",
       " '能 O',\n",
       " '量 O',\n",
       " '使 O',\n",
       " '用 O',\n",
       " '效 O',\n",
       " '率 O',\n",
       " '， O',\n",
       " '更 O',\n",
       " '加 O',\n",
       " '节 B-ADJ',\n",
       " '能 I-ADJ',\n",
       " '和 O',\n",
       " '环 O',\n",
       " '… O',\n",
       " '… O']"
      ]
     },
     "execution_count": 5,
     "metadata": {},
     "output_type": "execute_result"
    }
   ],
   "source": [
    "new"
   ]
  },
  {
   "cell_type": "code",
   "execution_count": 8,
   "metadata": {},
   "outputs": [],
   "source": [
    "with open('测试分词输出.txt','w') as f:\n",
    "    for i in new:\n",
    "        f.write(i)\n",
    "        f.write('\\n')"
   ]
  },
  {
   "cell_type": "code",
   "execution_count": null,
   "metadata": {},
   "outputs": [],
   "source": []
  }
 ],
 "metadata": {
  "kernelspec": {
   "display_name": "Python 3",
   "language": "python",
   "name": "python3"
  },
  "language_info": {
   "codemirror_mode": {
    "name": "ipython",
    "version": 3
   },
   "file_extension": ".py",
   "mimetype": "text/x-python",
   "name": "python",
   "nbconvert_exporter": "python",
   "pygments_lexer": "ipython3",
   "version": "3.8.3"
  }
 },
 "nbformat": 4,
 "nbformat_minor": 4
}
